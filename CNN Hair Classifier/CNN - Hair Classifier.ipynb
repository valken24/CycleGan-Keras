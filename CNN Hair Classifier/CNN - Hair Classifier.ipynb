{
 "cells": [
  {
   "cell_type": "code",
   "execution_count": 1,
   "metadata": {},
   "outputs": [
    {
     "name": "stderr",
     "output_type": "stream",
     "text": [
      "Using TensorFlow backend.\n"
     ]
    }
   ],
   "source": [
    "import matplotlib.pyplot as plt\n",
    "import numpy as np\n",
    "import cv2\n",
    "import os\n",
    "import warnings\n",
    "warnings.filterwarnings('ignore')\n",
    "\n",
    "import keras\n",
    "from keras.models import Sequential\n",
    "from keras.optimizers import RMSprop\n",
    "from keras.utils import to_categorical\n",
    "from keras.layers import Conv2D, MaxPooling2D\n",
    "from keras.layers import Activation, Dropout, Flatten, Dense\n",
    "from sklearn.preprocessing import LabelEncoder\n",
    "from sklearn.preprocessing import OneHotEncoder\n",
    "from keras.utils import np_utils\n",
    "import keras.backend as K"
   ]
  },
  {
   "cell_type": "code",
   "execution_count": 2,
   "metadata": {},
   "outputs": [],
   "source": [
    "IMAGE_H = 32\n",
    "IMAGE_W = 32\n",
    "CHANNEL = 3\n",
    "INPUT_SHAPE = (IMAGE_H, IMAGE_W, CHANNEL)"
   ]
  },
  {
   "cell_type": "code",
   "execution_count": 3,
   "metadata": {},
   "outputs": [],
   "source": [
    "def create_train(path, height, width):\n",
    "    x_train = []\n",
    "    y_train = []\n",
    "    \n",
    "    for root, folders, files in os.walk(path):\n",
    "        for f in files:\n",
    "\n",
    "            filepath = os.path.join(root, f)\n",
    "\n",
    "            image = cv2.imread(filepath, 1)\n",
    "            image = cv2.cvtColor(image, cv2.COLOR_BGR2RGB)\n",
    "            image = cv2.resize(image, (height,width))\n",
    "            x_train.append(image)\n",
    "\n",
    "            folder = filepath.split('\\\\')[0]\n",
    "            folder = folder.split(\"/\")[1]\n",
    "            y_train.append(folder)    \n",
    "\n",
    "    x_train = np.array(x_train)\n",
    "    y_train = np.array(y_train)\n",
    "    \n",
    "    return x_train, y_train\n",
    "\n",
    "def create_test(path, height, width):\n",
    "    x_test = []\n",
    "    y_test = []\n",
    "    \n",
    "    for root, folders, files in os.walk(path):\n",
    "        for f in files:\n",
    "\n",
    "            filepath = os.path.join(root, f)\n",
    "\n",
    "            image = cv2.imread(filepath, 1)\n",
    "            image = cv2.cvtColor(image, cv2.COLOR_BGR2RGB)\n",
    "            image = cv2.resize(image, (height,width))\n",
    "            x_test.append(image)\n",
    "\n",
    "            folder = filepath.split('\\\\')[0]\n",
    "            folder = folder.split(\"/\")[1]\n",
    "            y_test.append(folder)    \n",
    "\n",
    "    x_test = np.array(x_test)\n",
    "    y_test = np.array(y_test)\n",
    "    \n",
    "    return x_test, y_test"
   ]
  },
  {
   "cell_type": "code",
   "execution_count": 4,
   "metadata": {},
   "outputs": [],
   "source": [
    "train_data = 'TRAIN/'\n",
    "test_data  = 'TEST/'\n",
    "\n",
    "x_train, y_train = create_train(train_data, IMAGE_H, IMAGE_W)\n",
    "x_test, y_test = create_test(test_data, IMAGE_H, IMAGE_W)"
   ]
  },
  {
   "cell_type": "code",
   "execution_count": 5,
   "metadata": {},
   "outputs": [],
   "source": [
    "# Interger Encode\n",
    "label_encoder = LabelEncoder()\n",
    "test_integer_encoded = label_encoder.fit_transform(y_test)\n",
    "train_integer_encoded = label_encoder.fit_transform(y_train)\n",
    "\n",
    "# Binary Encode\n",
    "onehot_encoder = OneHotEncoder(sparse=False)\n",
    "test_integer_encoded = test_integer_encoded.reshape(len(test_integer_encoded), 1)\n",
    "train_integer_encoded = train_integer_encoded.reshape(len(train_integer_encoded), 1)\n",
    "    \n",
    "y_test = onehot_encoder.fit_transform(test_integer_encoded)\n",
    "y_train = onehot_encoder.fit_transform(train_integer_encoded)"
   ]
  },
  {
   "cell_type": "code",
   "execution_count": 6,
   "metadata": {},
   "outputs": [
    {
     "name": "stdout",
     "output_type": "stream",
     "text": [
      "['Blonde Hair']\n"
     ]
    }
   ],
   "source": [
    "#Inverted One Hot Encode\n",
    "inverted = label_encoder.inverse_transform([np.argmax(y_train[25])])\n",
    "print(inverted)"
   ]
  },
  {
   "cell_type": "code",
   "execution_count": 7,
   "metadata": {},
   "outputs": [
    {
     "name": "stdout",
     "output_type": "stream",
     "text": [
      "x_train:  70 \n",
      "y_train:  70\n",
      "x_test:  6 \n",
      "y_test:  6\n",
      "\n",
      "x Train Shape:  (70, 32, 32, 3) \n",
      "x Test Shape:  (6, 32, 32, 3)\n",
      "y Train:  (70, 2) \n",
      "y Test:  (6, 2)\n"
     ]
    }
   ],
   "source": [
    "print(\"x_train: \", len(x_train), \"\\ny_train: \", len(y_train))\n",
    "print(\"x_test: \", len(x_test), \"\\ny_test: \", len(y_test))\n",
    "print()\n",
    "print(\"x Train Shape: \", x_train.shape, \"\\nx Test Shape: \", x_test.shape)\n",
    "print(\"y Train: \", y_train.shape, \"\\ny Test: \", y_test.shape)"
   ]
  },
  {
   "cell_type": "code",
   "execution_count": 8,
   "metadata": {},
   "outputs": [
    {
     "name": "stdout",
     "output_type": "stream",
     "text": [
      "[1. 0.]\n"
     ]
    },
    {
     "data": {
      "image/png": "[encoded data removed]",
      "text/plain": [
       "<Figure size 432x288 with 1 Axes>"
      ]
     },
     "metadata": {
      "needs_background": "light"
     },
     "output_type": "display_data"
    }
   ],
   "source": [
    "## NO SHUFFLED\n",
    "plt.imshow(x_test[0])\n",
    "plt.plot()\n",
    "\n",
    "print(y_test[0])"
   ]
  },
  {
   "cell_type": "code",
   "execution_count": 9,
   "metadata": {},
   "outputs": [],
   "source": [
    "from sklearn.utils import shuffle\n",
    "x_test, y_test = shuffle(x_test, y_test, random_state=0)\n",
    "x_train, y_train = shuffle(x_train, y_train, random_state=0)"
   ]
  },
  {
   "cell_type": "code",
   "execution_count": 10,
   "metadata": {},
   "outputs": [
    {
     "name": "stdout",
     "output_type": "stream",
     "text": [
      "[0. 1.]\n"
     ]
    },
    {
     "data": {
      "image/png": "[encoded data removed]",
      "text/plain": [
       "<Figure size 432x288 with 1 Axes>"
      ]
     },
     "metadata": {
      "needs_background": "light"
     },
     "output_type": "display_data"
    }
   ],
   "source": [
    "## SHUFFLED\n",
    "plt.imshow(x_test[0])\n",
    "plt.plot()\n",
    "\n",
    "print(y_test[0])"
   ]
  },
  {
   "cell_type": "code",
   "execution_count": 11,
   "metadata": {},
   "outputs": [],
   "source": [
    "x_test = x_test / 255.0\n",
    "x_train = x_train / 255.0"
   ]
  },
  {
   "cell_type": "code",
   "execution_count": 12,
   "metadata": {},
   "outputs": [],
   "source": [
    "def create_cnn():\n",
    "    model = Sequential()\n",
    "    model.add(Conv2D(32, kernel_size=(3,3), input_shape=INPUT_SHAPE, activation='relu'))\n",
    "    model.add(Conv2D(64, kernel_size=(3,3), activation='relu'))\n",
    "    model.add(MaxPooling2D(pool_size=(2,2)))\n",
    "    \n",
    "    model.add(Conv2D(128, kernel_size=(3,3), activation='relu'))\n",
    "    model.add(Conv2D(256, kernel_size=(3,3), activation='relu'))\n",
    "    model.add(Conv2D(512, kernel_size=(3,3), activation='relu'))\n",
    "    model.add(MaxPooling2D(pool_size=(2,2)))\n",
    "    \n",
    "    model.add(Conv2D(1024, kernel_size=(3,3), activation='relu'))\n",
    "    model.add(MaxPooling2D(pool_size=(2,2)))\n",
    "    \n",
    "    model.add(Flatten())\n",
    "    model.add(Dense(256, activation='relu'))\n",
    "    model.add(Dropout(0.5)) # regularización Dropout.\n",
    "    model.add(Dense(2, activation='softmax'))\n",
    "    \n",
    "    return model"
   ]
  },
  {
   "cell_type": "code",
   "execution_count": 13,
   "metadata": {},
   "outputs": [
    {
     "name": "stdout",
     "output_type": "stream",
     "text": [
      "WARNING:tensorflow:From C:\\Users\\Valken\\Anaconda3\\envs\\CondaPy\\lib\\site-packages\\tensorflow\\python\\framework\\op_def_library.py:263: colocate_with (from tensorflow.python.framework.ops) is deprecated and will be removed in a future version.\n",
      "Instructions for updating:\n",
      "Colocations handled automatically by placer.\n",
      "WARNING:tensorflow:From C:\\Users\\Valken\\Anaconda3\\envs\\CondaPy\\lib\\site-packages\\keras\\backend\\tensorflow_backend.py:3445: calling dropout (from tensorflow.python.ops.nn_ops) with keep_prob is deprecated and will be removed in a future version.\n",
      "Instructions for updating:\n",
      "Please use `rate` instead of `keep_prob`. Rate should be set to `rate = 1 - keep_prob`.\n"
     ]
    }
   ],
   "source": [
    "cnn_model = create_cnn()\n",
    "cnn_model.compile(loss='categorical_crossentropy', optimizer='sgd', metrics=['acc', 'mse'])"
   ]
  },
  {
   "cell_type": "code",
   "execution_count": 14,
   "metadata": {
    "scrolled": true
   },
   "outputs": [
    {
     "name": "stdout",
     "output_type": "stream",
     "text": [
      "_________________________________________________________________\n",
      "Layer (type)                 Output Shape              Param #   \n",
      "=================================================================\n",
      "conv2d_1 (Conv2D)            (None, 30, 30, 32)        896       \n",
      "_________________________________________________________________\n",
      "conv2d_2 (Conv2D)            (None, 28, 28, 64)        18496     \n",
      "_________________________________________________________________\n",
      "max_pooling2d_1 (MaxPooling2 (None, 14, 14, 64)        0         \n",
      "_________________________________________________________________\n",
      "conv2d_3 (Conv2D)            (None, 12, 12, 128)       73856     \n",
      "_________________________________________________________________\n",
      "conv2d_4 (Conv2D)            (None, 10, 10, 256)       295168    \n",
      "_________________________________________________________________\n",
      "conv2d_5 (Conv2D)            (None, 8, 8, 512)         1180160   \n",
      "_________________________________________________________________\n",
      "max_pooling2d_2 (MaxPooling2 (None, 4, 4, 512)         0         \n",
      "_________________________________________________________________\n",
      "conv2d_6 (Conv2D)            (None, 2, 2, 1024)        4719616   \n",
      "_________________________________________________________________\n",
      "max_pooling2d_3 (MaxPooling2 (None, 1, 1, 1024)        0         \n",
      "_________________________________________________________________\n",
      "flatten_1 (Flatten)          (None, 1024)              0         \n",
      "_________________________________________________________________\n",
      "dense_1 (Dense)              (None, 256)               262400    \n",
      "_________________________________________________________________\n",
      "dropout_1 (Dropout)          (None, 256)               0         \n",
      "_________________________________________________________________\n",
      "dense_2 (Dense)              (None, 2)                 514       \n",
      "=================================================================\n",
      "Total params: 6,551,106\n",
      "Trainable params: 6,551,106\n",
      "Non-trainable params: 0\n",
      "_________________________________________________________________\n"
     ]
    }
   ],
   "source": [
    "cnn_model.summary()"
   ]
  },
  {
   "cell_type": "code",
   "execution_count": 15,
   "metadata": {
    "scrolled": true
   },
   "outputs": [
    {
     "name": "stdout",
     "output_type": "stream",
     "text": [
      "WARNING:tensorflow:From C:\\Users\\Valken\\Anaconda3\\envs\\CondaPy\\lib\\site-packages\\tensorflow\\python\\ops\\math_ops.py:3066: to_int32 (from tensorflow.python.ops.math_ops) is deprecated and will be removed in a future version.\n",
      "Instructions for updating:\n",
      "Use tf.cast instead.\n",
      "Train on 70 samples, validate on 6 samples\n",
      "Epoch 1/100\n",
      "70/70 [==============================] - 4s 54ms/step - loss: 0.6963 - acc: 0.5000 - mean_squared_error: 0.2516 - val_loss: 0.6925 - val_acc: 0.5000 - val_mean_squared_error: 0.2497\n",
      "Epoch 2/100\n",
      "70/70 [==============================] - 0s 2ms/step - loss: 0.6929 - acc: 0.5000 - mean_squared_error: 0.2499 - val_loss: 0.6924 - val_acc: 0.5000 - val_mean_squared_error: 0.2496\n",
      "Epoch 3/100\n",
      "70/70 [==============================] - 0s 2ms/step - loss: 0.6896 - acc: 0.5000 - mean_squared_error: 0.2482 - val_loss: 0.6925 - val_acc: 0.5000 - val_mean_squared_error: 0.2497\n",
      "Epoch 4/100\n",
      "70/70 [==============================] - 0s 1ms/step - loss: 0.6950 - acc: 0.5000 - mean_squared_error: 0.2509 - val_loss: 0.6923 - val_acc: 0.5000 - val_mean_squared_error: 0.2496\n",
      "Epoch 5/100\n",
      "70/70 [==============================] - 0s 1ms/step - loss: 0.6918 - acc: 0.4857 - mean_squared_error: 0.2493 - val_loss: 0.6927 - val_acc: 0.5000 - val_mean_squared_error: 0.2498\n",
      "Epoch 6/100\n",
      "70/70 [==============================] - 0s 1ms/step - loss: 0.6922 - acc: 0.5000 - mean_squared_error: 0.2495 - val_loss: 0.6928 - val_acc: 0.5000 - val_mean_squared_error: 0.2498\n",
      "Epoch 7/100\n",
      "70/70 [==============================] - 0s 1ms/step - loss: 0.6929 - acc: 0.5000 - mean_squared_error: 0.2499 - val_loss: 0.6929 - val_acc: 0.5000 - val_mean_squared_error: 0.2499\n",
      "Epoch 8/100\n",
      "70/70 [==============================] - 0s 2ms/step - loss: 0.6895 - acc: 0.5000 - mean_squared_error: 0.2482 - val_loss: 0.6928 - val_acc: 0.5000 - val_mean_squared_error: 0.2498\n",
      "Epoch 9/100\n",
      "70/70 [==============================] - 0s 1ms/step - loss: 0.6906 - acc: 0.5143 - mean_squared_error: 0.2487 - val_loss: 0.6930 - val_acc: 0.5000 - val_mean_squared_error: 0.2499\n",
      "Epoch 10/100\n",
      "70/70 [==============================] - 0s 1ms/step - loss: 0.6885 - acc: 0.5000 - mean_squared_error: 0.2477 - val_loss: 0.6930 - val_acc: 0.5000 - val_mean_squared_error: 0.2499\n",
      "Epoch 11/100\n",
      "70/70 [==============================] - 0s 1ms/step - loss: 0.6905 - acc: 0.5000 - mean_squared_error: 0.2487 - val_loss: 0.6931 - val_acc: 0.5000 - val_mean_squared_error: 0.2500\n",
      "Epoch 12/100\n",
      "70/70 [==============================] - 0s 1ms/step - loss: 0.6879 - acc: 0.5000 - mean_squared_error: 0.2474 - val_loss: 0.6929 - val_acc: 0.5000 - val_mean_squared_error: 0.2499\n",
      "Epoch 13/100\n",
      "70/70 [==============================] - 0s 1ms/step - loss: 0.6893 - acc: 0.5000 - mean_squared_error: 0.2481 - val_loss: 0.6932 - val_acc: 0.5000 - val_mean_squared_error: 0.2500\n",
      "Epoch 14/100\n",
      "70/70 [==============================] - 0s 2ms/step - loss: 0.6846 - acc: 0.5000 - mean_squared_error: 0.2457 - val_loss: 0.6935 - val_acc: 0.5000 - val_mean_squared_error: 0.2502\n",
      "Epoch 15/100\n",
      "70/70 [==============================] - 0s 2ms/step - loss: 0.6814 - acc: 0.5000 - mean_squared_error: 0.2442 - val_loss: 0.6934 - val_acc: 0.5000 - val_mean_squared_error: 0.2501\n",
      "Epoch 16/100\n",
      "70/70 [==============================] - 0s 1ms/step - loss: 0.6860 - acc: 0.5000 - mean_squared_error: 0.2465 - val_loss: 0.6936 - val_acc: 0.5000 - val_mean_squared_error: 0.2502\n",
      "Epoch 17/100\n",
      "70/70 [==============================] - 0s 2ms/step - loss: 0.6868 - acc: 0.5143 - mean_squared_error: 0.2468 - val_loss: 0.6938 - val_acc: 0.5000 - val_mean_squared_error: 0.2503\n",
      "Epoch 18/100\n",
      "70/70 [==============================] - 0s 1ms/step - loss: 0.6802 - acc: 0.5000 - mean_squared_error: 0.2436 - val_loss: 0.6940 - val_acc: 0.5000 - val_mean_squared_error: 0.2504\n",
      "Epoch 19/100\n",
      "70/70 [==============================] - 0s 1ms/step - loss: 0.6840 - acc: 0.5000 - mean_squared_error: 0.2454 - val_loss: 0.6939 - val_acc: 0.5000 - val_mean_squared_error: 0.2504\n",
      "Epoch 20/100\n",
      "70/70 [==============================] - 0s 2ms/step - loss: 0.6808 - acc: 0.5000 - mean_squared_error: 0.2438 - val_loss: 0.6938 - val_acc: 0.5000 - val_mean_squared_error: 0.2503\n",
      "Epoch 21/100\n",
      "70/70 [==============================] - 0s 2ms/step - loss: 0.6832 - acc: 0.5000 - mean_squared_error: 0.2450 - val_loss: 0.6937 - val_acc: 0.5000 - val_mean_squared_error: 0.2503\n",
      "Epoch 22/100\n",
      "70/70 [==============================] - 0s 1ms/step - loss: 0.6805 - acc: 0.5000 - mean_squared_error: 0.2437 - val_loss: 0.6940 - val_acc: 0.5000 - val_mean_squared_error: 0.2504\n",
      "Epoch 23/100\n",
      "70/70 [==============================] - 0s 1ms/step - loss: 0.6797 - acc: 0.5000 - mean_squared_error: 0.2433 - val_loss: 0.6944 - val_acc: 0.5000 - val_mean_squared_error: 0.2506\n",
      "Epoch 24/100\n",
      "70/70 [==============================] - 0s 2ms/step - loss: 0.6803 - acc: 0.5143 - mean_squared_error: 0.2436 - val_loss: 0.6944 - val_acc: 0.5000 - val_mean_squared_error: 0.2506\n",
      "Epoch 25/100\n",
      "70/70 [==============================] - 0s 1ms/step - loss: 0.6773 - acc: 0.5143 - mean_squared_error: 0.2421 - val_loss: 0.6946 - val_acc: 0.5000 - val_mean_squared_error: 0.2507\n",
      "Epoch 26/100\n",
      "70/70 [==============================] - 0s 1ms/step - loss: 0.6739 - acc: 0.5000 - mean_squared_error: 0.2404 - val_loss: 0.6947 - val_acc: 0.5000 - val_mean_squared_error: 0.2508\n",
      "Epoch 27/100\n",
      "70/70 [==============================] - 0s 2ms/step - loss: 0.6781 - acc: 0.5000 - mean_squared_error: 0.2425 - val_loss: 0.6945 - val_acc: 0.5000 - val_mean_squared_error: 0.2507\n",
      "Epoch 28/100\n",
      "70/70 [==============================] - 0s 1ms/step - loss: 0.6732 - acc: 0.5000 - mean_squared_error: 0.2401 - val_loss: 0.6945 - val_acc: 0.5000 - val_mean_squared_error: 0.2507\n",
      "Epoch 29/100\n",
      "70/70 [==============================] - 0s 1ms/step - loss: 0.6760 - acc: 0.5000 - mean_squared_error: 0.2415 - val_loss: 0.6953 - val_acc: 0.5000 - val_mean_squared_error: 0.2511\n",
      "Epoch 30/100\n",
      "70/70 [==============================] - 0s 2ms/step - loss: 0.6774 - acc: 0.5000 - mean_squared_error: 0.2422 - val_loss: 0.6957 - val_acc: 0.5000 - val_mean_squared_error: 0.2513\n",
      "Epoch 31/100\n",
      "70/70 [==============================] - 0s 2ms/step - loss: 0.6750 - acc: 0.5000 - mean_squared_error: 0.2410 - val_loss: 0.6955 - val_acc: 0.5000 - val_mean_squared_error: 0.2512\n",
      "Epoch 32/100\n",
      "70/70 [==============================] - 0s 1ms/step - loss: 0.6682 - acc: 0.5143 - mean_squared_error: 0.2376 - val_loss: 0.6954 - val_acc: 0.5000 - val_mean_squared_error: 0.2511\n",
      "Epoch 33/100\n",
      "70/70 [==============================] - 0s 2ms/step - loss: 0.6711 - acc: 0.5429 - mean_squared_error: 0.2391 - val_loss: 0.6955 - val_acc: 0.5000 - val_mean_squared_error: 0.2512\n",
      "Epoch 34/100\n",
      "70/70 [==============================] - 0s 1ms/step - loss: 0.6654 - acc: 0.5714 - mean_squared_error: 0.2362 - val_loss: 0.6960 - val_acc: 0.5000 - val_mean_squared_error: 0.2514\n",
      "Epoch 35/100\n",
      "70/70 [==============================] - 0s 1ms/step - loss: 0.6622 - acc: 0.5286 - mean_squared_error: 0.2347 - val_loss: 0.6967 - val_acc: 0.5000 - val_mean_squared_error: 0.2518\n",
      "Epoch 36/100\n",
      "70/70 [==============================] - 0s 1ms/step - loss: 0.6581 - acc: 0.5429 - mean_squared_error: 0.2326 - val_loss: 0.6959 - val_acc: 0.5000 - val_mean_squared_error: 0.2514\n",
      "Epoch 37/100\n",
      "70/70 [==============================] - 0s 1ms/step - loss: 0.6674 - acc: 0.5286 - mean_squared_error: 0.2372 - val_loss: 0.6967 - val_acc: 0.5000 - val_mean_squared_error: 0.2518\n",
      "Epoch 38/100\n",
      "70/70 [==============================] - 0s 1ms/step - loss: 0.6598 - acc: 0.5857 - mean_squared_error: 0.2335 - val_loss: 0.6965 - val_acc: 0.5000 - val_mean_squared_error: 0.2517\n",
      "Epoch 39/100\n",
      "70/70 [==============================] - 0s 2ms/step - loss: 0.6577 - acc: 0.5857 - mean_squared_error: 0.2324 - val_loss: 0.6975 - val_acc: 0.5000 - val_mean_squared_error: 0.2522\n",
      "Epoch 40/100\n",
      "70/70 [==============================] - 0s 1ms/step - loss: 0.6538 - acc: 0.5857 - mean_squared_error: 0.2305 - val_loss: 0.6971 - val_acc: 0.5000 - val_mean_squared_error: 0.2520\n",
      "Epoch 41/100\n",
      "70/70 [==============================] - 0s 1ms/step - loss: 0.6585 - acc: 0.6429 - mean_squared_error: 0.2328 - val_loss: 0.6976 - val_acc: 0.5000 - val_mean_squared_error: 0.2522\n"
     ]
    },
    {
     "name": "stdout",
     "output_type": "stream",
     "text": [
      "Epoch 42/100\n",
      "70/70 [==============================] - 0s 1ms/step - loss: 0.6543 - acc: 0.6429 - mean_squared_error: 0.2307 - val_loss: 0.6980 - val_acc: 0.5000 - val_mean_squared_error: 0.2524\n",
      "Epoch 43/100\n",
      "70/70 [==============================] - 0s 2ms/step - loss: 0.6512 - acc: 0.6714 - mean_squared_error: 0.2292 - val_loss: 0.6983 - val_acc: 0.5000 - val_mean_squared_error: 0.2526\n",
      "Epoch 44/100\n",
      "70/70 [==============================] - 0s 1ms/step - loss: 0.6458 - acc: 0.6286 - mean_squared_error: 0.2266 - val_loss: 0.6984 - val_acc: 0.5000 - val_mean_squared_error: 0.2526\n",
      "Epoch 45/100\n",
      "70/70 [==============================] - 0s 2ms/step - loss: 0.6490 - acc: 0.6429 - mean_squared_error: 0.2282 - val_loss: 0.6988 - val_acc: 0.5000 - val_mean_squared_error: 0.2528\n",
      "Epoch 46/100\n",
      "70/70 [==============================] - 0s 1ms/step - loss: 0.6414 - acc: 0.6429 - mean_squared_error: 0.2244 - val_loss: 0.6982 - val_acc: 0.5000 - val_mean_squared_error: 0.2525\n",
      "Epoch 47/100\n",
      "70/70 [==============================] - 0s 2ms/step - loss: 0.6315 - acc: 0.7000 - mean_squared_error: 0.2195 - val_loss: 0.7001 - val_acc: 0.5000 - val_mean_squared_error: 0.2534\n",
      "Epoch 48/100\n",
      "70/70 [==============================] - 0s 2ms/step - loss: 0.6356 - acc: 0.6286 - mean_squared_error: 0.2216 - val_loss: 0.7009 - val_acc: 0.5000 - val_mean_squared_error: 0.2538\n",
      "Epoch 49/100\n",
      "70/70 [==============================] - 0s 1ms/step - loss: 0.6217 - acc: 0.7000 - mean_squared_error: 0.2148 - val_loss: 0.7011 - val_acc: 0.5000 - val_mean_squared_error: 0.2539\n",
      "Epoch 50/100\n",
      "70/70 [==============================] - 0s 2ms/step - loss: 0.6183 - acc: 0.7286 - mean_squared_error: 0.2130 - val_loss: 0.7023 - val_acc: 0.5000 - val_mean_squared_error: 0.2545\n",
      "Epoch 51/100\n",
      "70/70 [==============================] - 0s 1ms/step - loss: 0.6254 - acc: 0.6857 - mean_squared_error: 0.2166 - val_loss: 0.7025 - val_acc: 0.5000 - val_mean_squared_error: 0.2546\n",
      "Epoch 52/100\n",
      "70/70 [==============================] - 0s 2ms/step - loss: 0.6119 - acc: 0.6857 - mean_squared_error: 0.2100 - val_loss: 0.7050 - val_acc: 0.5000 - val_mean_squared_error: 0.2558\n",
      "Epoch 53/100\n",
      "70/70 [==============================] - 0s 1ms/step - loss: 0.6061 - acc: 0.8000 - mean_squared_error: 0.2072 - val_loss: 0.7046 - val_acc: 0.5000 - val_mean_squared_error: 0.2556\n",
      "Epoch 54/100\n",
      "70/70 [==============================] - 0s 2ms/step - loss: 0.6133 - acc: 0.7571 - mean_squared_error: 0.2106 - val_loss: 0.7123 - val_acc: 0.5000 - val_mean_squared_error: 0.2594\n",
      "Epoch 55/100\n",
      "70/70 [==============================] - 0s 1ms/step - loss: 0.6066 - acc: 0.7571 - mean_squared_error: 0.2077 - val_loss: 0.7086 - val_acc: 0.5000 - val_mean_squared_error: 0.2576\n",
      "Epoch 56/100\n",
      "70/70 [==============================] - 0s 1ms/step - loss: 0.5910 - acc: 0.7714 - mean_squared_error: 0.2000 - val_loss: 0.7139 - val_acc: 0.5000 - val_mean_squared_error: 0.2601\n",
      "Epoch 57/100\n",
      "70/70 [==============================] - 0s 1ms/step - loss: 0.6002 - acc: 0.7714 - mean_squared_error: 0.2046 - val_loss: 0.7078 - val_acc: 0.5000 - val_mean_squared_error: 0.2572\n",
      "Epoch 58/100\n",
      "70/70 [==============================] - 0s 1ms/step - loss: 0.5880 - acc: 0.8143 - mean_squared_error: 0.1985 - val_loss: 0.7280 - val_acc: 0.5000 - val_mean_squared_error: 0.2667\n",
      "Epoch 59/100\n",
      "70/70 [==============================] - 0s 2ms/step - loss: 0.5846 - acc: 0.7286 - mean_squared_error: 0.1976 - val_loss: 0.7303 - val_acc: 0.5000 - val_mean_squared_error: 0.2677\n",
      "Epoch 60/100\n",
      "70/70 [==============================] - 0s 1ms/step - loss: 0.5807 - acc: 0.7429 - mean_squared_error: 0.1957 - val_loss: 0.7365 - val_acc: 0.5000 - val_mean_squared_error: 0.2706\n",
      "Epoch 61/100\n",
      "70/70 [==============================] - 0s 1ms/step - loss: 0.5688 - acc: 0.7714 - mean_squared_error: 0.1905 - val_loss: 0.7500 - val_acc: 0.5000 - val_mean_squared_error: 0.2766\n",
      "Epoch 62/100\n",
      "70/70 [==============================] - 0s 1ms/step - loss: 0.5480 - acc: 0.7857 - mean_squared_error: 0.1811 - val_loss: 0.7414 - val_acc: 0.5000 - val_mean_squared_error: 0.2728\n",
      "Epoch 63/100\n",
      "70/70 [==============================] - 0s 2ms/step - loss: 0.5429 - acc: 0.8429 - mean_squared_error: 0.1781 - val_loss: 0.7375 - val_acc: 0.5000 - val_mean_squared_error: 0.2711\n",
      "Epoch 64/100\n",
      "70/70 [==============================] - 0s 1ms/step - loss: 0.5426 - acc: 0.8143 - mean_squared_error: 0.1784 - val_loss: 0.7732 - val_acc: 0.5000 - val_mean_squared_error: 0.2866\n",
      "Epoch 65/100\n",
      "70/70 [==============================] - 0s 2ms/step - loss: 0.5260 - acc: 0.8000 - mean_squared_error: 0.1717 - val_loss: 0.7766 - val_acc: 0.5000 - val_mean_squared_error: 0.2880\n",
      "Epoch 66/100\n",
      "70/70 [==============================] - 0s 2ms/step - loss: 0.5239 - acc: 0.8000 - mean_squared_error: 0.1702 - val_loss: 0.7817 - val_acc: 0.5000 - val_mean_squared_error: 0.2901\n",
      "Epoch 67/100\n",
      "70/70 [==============================] - 0s 1ms/step - loss: 0.5184 - acc: 0.7857 - mean_squared_error: 0.1689 - val_loss: 0.7491 - val_acc: 0.5000 - val_mean_squared_error: 0.2763\n",
      "Epoch 68/100\n",
      "70/70 [==============================] - 0s 2ms/step - loss: 0.4761 - acc: 0.8571 - mean_squared_error: 0.1485 - val_loss: 0.8892 - val_acc: 0.5000 - val_mean_squared_error: 0.3302\n",
      "Epoch 69/100\n",
      "70/70 [==============================] - 0s 2ms/step - loss: 0.5321 - acc: 0.6714 - mean_squared_error: 0.1801 - val_loss: 0.8327 - val_acc: 0.5000 - val_mean_squared_error: 0.3099\n",
      "Epoch 70/100\n",
      "70/70 [==============================] - 0s 1ms/step - loss: 0.4971 - acc: 0.7429 - mean_squared_error: 0.1638 - val_loss: 0.7537 - val_acc: 0.5000 - val_mean_squared_error: 0.2785\n",
      "Epoch 71/100\n",
      "70/70 [==============================] - 0s 2ms/step - loss: 0.4370 - acc: 0.9000 - mean_squared_error: 0.1325 - val_loss: 0.7650 - val_acc: 0.5000 - val_mean_squared_error: 0.2836\n",
      "Epoch 72/100\n",
      "70/70 [==============================] - 0s 1ms/step - loss: 0.4336 - acc: 0.8286 - mean_squared_error: 0.1314 - val_loss: 0.8177 - val_acc: 0.5000 - val_mean_squared_error: 0.3042\n",
      "Epoch 73/100\n",
      "70/70 [==============================] - 0s 2ms/step - loss: 0.4078 - acc: 0.8571 - mean_squared_error: 0.1259 - val_loss: 0.7566 - val_acc: 0.3333 - val_mean_squared_error: 0.2809\n",
      "Epoch 74/100\n",
      "70/70 [==============================] - 0s 1ms/step - loss: 0.5365 - acc: 0.7143 - mean_squared_error: 0.1759 - val_loss: 0.8451 - val_acc: 0.5000 - val_mean_squared_error: 0.3139\n",
      "Epoch 75/100\n",
      "70/70 [==============================] - 0s 2ms/step - loss: 0.5092 - acc: 0.7571 - mean_squared_error: 0.1701 - val_loss: 0.7739 - val_acc: 0.5000 - val_mean_squared_error: 0.2866\n",
      "Epoch 76/100\n",
      "70/70 [==============================] - 0s 1ms/step - loss: 0.4087 - acc: 0.9286 - mean_squared_error: 0.1209 - val_loss: 0.7925 - val_acc: 0.5000 - val_mean_squared_error: 0.2944\n",
      "Epoch 77/100\n",
      "70/70 [==============================] - 0s 2ms/step - loss: 0.3711 - acc: 0.9000 - mean_squared_error: 0.1054 - val_loss: 0.7659 - val_acc: 0.5000 - val_mean_squared_error: 0.2854\n",
      "Epoch 78/100\n",
      "70/70 [==============================] - 0s 1ms/step - loss: 0.3460 - acc: 0.9429 - mean_squared_error: 0.0949 - val_loss: 1.0560 - val_acc: 0.5000 - val_mean_squared_error: 0.3755\n",
      "Epoch 79/100\n",
      "70/70 [==============================] - 0s 1ms/step - loss: 0.5914 - acc: 0.6429 - mean_squared_error: 0.2108 - val_loss: 0.8579 - val_acc: 0.5000 - val_mean_squared_error: 0.3178\n",
      "Epoch 80/100\n",
      "70/70 [==============================] - 0s 1ms/step - loss: 0.3975 - acc: 0.8571 - mean_squared_error: 0.1215 - val_loss: 1.0001 - val_acc: 0.5000 - val_mean_squared_error: 0.3605\n",
      "Epoch 81/100\n",
      "70/70 [==============================] - 0s 2ms/step - loss: 0.4486 - acc: 0.7571 - mean_squared_error: 0.1500 - val_loss: 0.8905 - val_acc: 0.5000 - val_mean_squared_error: 0.3278\n",
      "Epoch 82/100\n",
      "70/70 [==============================] - 0s 1ms/step - loss: 0.3509 - acc: 0.8571 - mean_squared_error: 0.1030 - val_loss: 0.7848 - val_acc: 0.5000 - val_mean_squared_error: 0.2949\n",
      "Epoch 83/100\n",
      "70/70 [==============================] - 0s 1ms/step - loss: 0.2715 - acc: 0.9429 - mean_squared_error: 0.0702 - val_loss: 0.9917 - val_acc: 0.5000 - val_mean_squared_error: 0.3566\n",
      "Epoch 84/100\n"
     ]
    },
    {
     "name": "stdout",
     "output_type": "stream",
     "text": [
      "70/70 [==============================] - 0s 1ms/step - loss: 0.4129 - acc: 0.8143 - mean_squared_error: 0.1383 - val_loss: 0.7873 - val_acc: 0.5000 - val_mean_squared_error: 0.2962\n",
      "Epoch 85/100\n",
      "70/70 [==============================] - 0s 2ms/step - loss: 0.2698 - acc: 0.9429 - mean_squared_error: 0.0688 - val_loss: 0.9274 - val_acc: 0.5000 - val_mean_squared_error: 0.3397\n",
      "Epoch 86/100\n",
      "70/70 [==============================] - 0s 2ms/step - loss: 0.3363 - acc: 0.8286 - mean_squared_error: 0.1084 - val_loss: 0.9359 - val_acc: 0.6667 - val_mean_squared_error: 0.3247\n",
      "Epoch 87/100\n",
      "70/70 [==============================] - 0s 1ms/step - loss: 0.5792 - acc: 0.7143 - mean_squared_error: 0.1976 - val_loss: 1.0777 - val_acc: 0.5000 - val_mean_squared_error: 0.3812\n",
      "Epoch 88/100\n",
      "70/70 [==============================] - 0s 2ms/step - loss: 0.6411 - acc: 0.5429 - mean_squared_error: 0.2338 - val_loss: 0.7338 - val_acc: 0.5000 - val_mean_squared_error: 0.2713\n",
      "Epoch 89/100\n",
      "70/70 [==============================] - 0s 1ms/step - loss: 0.3681 - acc: 0.9143 - mean_squared_error: 0.1059 - val_loss: 0.7693 - val_acc: 0.5000 - val_mean_squared_error: 0.2874\n",
      "Epoch 90/100\n",
      "70/70 [==============================] - 0s 1ms/step - loss: 0.2762 - acc: 0.9571 - mean_squared_error: 0.0687 - val_loss: 0.8161 - val_acc: 0.5000 - val_mean_squared_error: 0.3057\n",
      "Epoch 91/100\n",
      "70/70 [==============================] - 0s 1ms/step - loss: 0.2740 - acc: 0.9429 - mean_squared_error: 0.0730 - val_loss: 0.8332 - val_acc: 0.5000 - val_mean_squared_error: 0.3137\n",
      "Epoch 92/100\n",
      "70/70 [==============================] - 0s 1ms/step - loss: 0.2415 - acc: 0.9286 - mean_squared_error: 0.0623 - val_loss: 0.8291 - val_acc: 0.5000 - val_mean_squared_error: 0.3155\n",
      "Epoch 93/100\n",
      "70/70 [==============================] - 0s 2ms/step - loss: 0.1866 - acc: 0.9857 - mean_squared_error: 0.0408 - val_loss: 0.8782 - val_acc: 0.5000 - val_mean_squared_error: 0.3320\n",
      "Epoch 94/100\n",
      "70/70 [==============================] - 0s 1ms/step - loss: 0.1756 - acc: 0.9571 - mean_squared_error: 0.0429 - val_loss: 0.9011 - val_acc: 0.3333 - val_mean_squared_error: 0.3276\n",
      "Epoch 95/100\n",
      "70/70 [==============================] - 0s 1ms/step - loss: 0.4222 - acc: 0.7571 - mean_squared_error: 0.1386 - val_loss: 1.3372 - val_acc: 0.5000 - val_mean_squared_error: 0.4257\n",
      "Epoch 96/100\n",
      "70/70 [==============================] - 0s 2ms/step - loss: 0.5538 - acc: 0.7714 - mean_squared_error: 0.1883 - val_loss: 0.7711 - val_acc: 0.5000 - val_mean_squared_error: 0.2895\n",
      "Epoch 97/100\n",
      "70/70 [==============================] - 0s 1ms/step - loss: 0.2678 - acc: 0.9857 - mean_squared_error: 0.0672 - val_loss: 0.7962 - val_acc: 0.5000 - val_mean_squared_error: 0.3017\n",
      "Epoch 98/100\n",
      "70/70 [==============================] - 0s 1ms/step - loss: 0.2228 - acc: 0.9571 - mean_squared_error: 0.0545 - val_loss: 0.8198 - val_acc: 0.3333 - val_mean_squared_error: 0.3115\n",
      "Epoch 99/100\n",
      "70/70 [==============================] - 0s 1ms/step - loss: 0.1923 - acc: 0.9714 - mean_squared_error: 0.0450 - val_loss: 0.8712 - val_acc: 0.5000 - val_mean_squared_error: 0.3301\n",
      "Epoch 100/100\n",
      "70/70 [==============================] - 0s 2ms/step - loss: 0.1867 - acc: 0.9571 - mean_squared_error: 0.0442 - val_loss: 0.9552 - val_acc: 0.5000 - val_mean_squared_error: 0.3503\n"
     ]
    }
   ],
   "source": [
    "cnn = cnn_model.fit(x_train, y_train, epochs=100, verbose=1, validation_data=(x_test, y_test), shuffle=False)"
   ]
  },
  {
   "cell_type": "code",
   "execution_count": 17,
   "metadata": {},
   "outputs": [
    {
     "data": {
      "image/png": "[encoded data removed]",
      "text/plain": [
       "<Figure size 576x432 with 1 Axes>"
      ]
     },
     "metadata": {
      "needs_background": "light"
     },
     "output_type": "display_data"
    },
    {
     "data": {
      "image/png": "[encoded data removed]",
      "text/plain": [
       "<Figure size 576x432 with 1 Axes>"
      ]
     },
     "metadata": {
      "needs_background": "light"
     },
     "output_type": "display_data"
    }
   ],
   "source": [
    "plt.figure(0)  \n",
    "plt.plot(cnn.history['acc'],'r')  \n",
    "plt.plot(cnn.history['val_acc'],'g')  \n",
    "plt.xticks(np.arange(0, 11, 2.0))  \n",
    "plt.rcParams['figure.figsize'] = (8, 6)  \n",
    "plt.xlabel(\"Num of Epochs\")  \n",
    "plt.ylabel(\"Accuracy\")  \n",
    "plt.title(\"Training Accuracy vs Validation Accuracy\")  \n",
    "plt.legend(['train','validation'])\n",
    "\n",
    "plt.figure(1)  \n",
    "plt.plot(cnn.history['loss'],'r')  \n",
    "plt.plot(cnn.history['val_loss'],'g')  \n",
    "plt.xticks(np.arange(0, 11, 2.0))  \n",
    "plt.rcParams['figure.figsize'] = (8, 6)  \n",
    "plt.xlabel(\"Num of Epochs\")  \n",
    "plt.ylabel(\"Loss\")  \n",
    "plt.title(\"Training Loss vs Validation Loss\")  \n",
    "plt.legend(['train','validation'])\n",
    "\n",
    "plt.show() "
   ]
  },
  {
   "cell_type": "code",
   "execution_count": null,
   "metadata": {},
   "outputs": [],
   "source": []
  },
  {
   "cell_type": "code",
   "execution_count": null,
   "metadata": {},
   "outputs": [],
   "source": []
  }
 ],
 "metadata": {
  "kernelspec": {
   "display_name": "Python 3",
   "language": "python",
   "name": "python3"
  },
  "language_info": {
   "codemirror_mode": {
    "name": "ipython",
    "version": 3
   },
   "file_extension": ".py",
   "mimetype": "text/x-python",
   "name": "python",
   "nbconvert_exporter": "python",
   "pygments_lexer": "ipython3",
   "version": "3.7.3"
  }
 },
 "nbformat": 4,
 "nbformat_minor": 2
}
